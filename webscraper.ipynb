{
 "cells": [
  {
   "cell_type": "markdown",
   "metadata": {},
   "source": [
    "## 1. Set Up Environment"
   ]
  },
  {
   "cell_type": "code",
   "execution_count": 29,
   "metadata": {},
   "outputs": [],
   "source": [
    "import pandas as pd\n",
    "import requests\n",
    "import time\n",
    "import re\n",
    "from selenium import webdriver\n",
    "from selenium.webdriver.common.keys import Keys\n",
    "from bs4 import BeautifulSoup as bs"
   ]
  },
  {
   "cell_type": "markdown",
   "metadata": {},
   "source": [
    "## 2. Expedia Scraper"
   ]
  },
  {
   "cell_type": "code",
   "execution_count": 35,
   "metadata": {},
   "outputs": [],
   "source": [
    "flight_inputs = {'Roundtrip': 'ROUND_TRIP', 'One-way': 'ONE_WAY', 'Multi-city': 'MULTI_CITY', \n",
    "                 'class': ['Economy', 'Premium economy', 'Business class', 'First class']}\n",
    "\n",
    "def expedia_flight(type_='Roundtrip', class_='Economy'):\n",
    "\n",
    "    chrome_driver = \"C:/ChromeDrive/chromedriver\"\n",
    "    browser = webdriver.Chrome(chrome_driver)\n",
    "    url = \"https://www.expedia.ca/\"\n",
    "    browser.get(url)\n",
    "    time.sleep(0.2)\n",
    "    \n",
    "    # Select \"Flights\" tab\n",
    "    flight_xpath = '//a[@aria-controls=\"search_form_product_selector_flights\"]'\n",
    "    flight_element = browser.find_element_by_xpath(flight_xpath)\n",
    "    flight_element.click()\n",
    "    time.sleep(0.2)\n",
    "    \n",
    "    # Select \"type\" of flight\n",
    "    type_xpath = '//a[@aria-controls=\"FlightSearchForm_' + flight_inputs[type_] + '\"]'\n",
    "    type_element = browser.find_element_by_xpath(type_xpath)\n",
    "    type_element.click()\n",
    "    time.sleep(0.2)\n",
    "    \n",
    "    # Select ticket \"class\"\n",
    "    class_xpath = '//span[@class=\"uitk-pill-text\"]'\n",
    "    class_element = browser.find_element_by_xpath(class_xpath)\n",
    "    class_element.click()\n",
    "    time.sleep(1)\n",
    "    class_element.send_keys(Keys.ARROW_DOWN)"
   ]
  },
  {
   "cell_type": "code",
   "execution_count": null,
   "metadata": {},
   "outputs": [],
   "source": [
    "expedia_flight('One-way')"
   ]
  },
  {
   "cell_type": "code",
   "execution_count": null,
   "metadata": {},
   "outputs": [],
   "source": []
  }
 ],
 "metadata": {
  "kernelspec": {
   "display_name": "Python 3 (ipykernel)",
   "language": "python",
   "name": "python3"
  },
  "language_info": {
   "codemirror_mode": {
    "name": "ipython",
    "version": 3
   },
   "file_extension": ".py",
   "mimetype": "text/x-python",
   "name": "python",
   "nbconvert_exporter": "python",
   "pygments_lexer": "ipython3",
   "version": "3.8.15"
  }
 },
 "nbformat": 4,
 "nbformat_minor": 2
}
