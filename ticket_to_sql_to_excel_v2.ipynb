{
 "cells": [
  {
   "cell_type": "markdown",
   "id": "583d0733",
   "metadata": {},
   "source": [
    "## 1. Set Up Environment"
   ]
  },
  {
   "cell_type": "code",
   "execution_count": 3,
   "id": "0d1f2d70",
   "metadata": {},
   "outputs": [],
   "source": [
    "import pyodbc\n",
    "import sys\n",
    "from datetime import date\n",
    "from selenium import webdriver\n",
    "from sqlalchemy import create_engine\n",
    "from expedia_scrape import expedia_flight\n",
    "from kayak_scrape import kayak_flight\n",
    "from sql_to_excel_v2 import sql_excel"
   ]
  },
  {
   "cell_type": "markdown",
   "id": "8b344c35",
   "metadata": {},
   "source": [
    "## 2. Call The Scrapers And Place Data In SQL"
   ]
  },
  {
   "cell_type": "code",
   "execution_count": 4,
   "id": "4c20a864",
   "metadata": {},
   "outputs": [],
   "source": [
    "### Set Up Arguments For All Functions Used ################################################################################ \n",
    "\n",
    "args = ['roundtrip', 'business class', 'lhr - london', 'akj - asahikawa', date(2024,3,2), date(2024,3,22), False]\n",
    "\n",
    "\n",
    "### Set Up ChromeDriver ####################################################################################################\n",
    "\n",
    "# Create ChromeOptions instance\n",
    "chrome_options = webdriver.ChromeOptions()\n",
    "\n",
    "# Adding argument to disable the AutomationControlled flag\n",
    "chrome_options.add_argument(\"--disable-blink-features=AutomationControlled\")\n",
    "\n",
    "# Adding argument for incognito mode\n",
    "chrome_options.add_argument(\"--incognito\")\n",
    "\n",
    "# Exclude the collection of enable-automation switches\n",
    "chrome_options.add_experimental_option(\"excludeSwitches\", [\"enable-automation\"])\n",
    "\n",
    "# Turn-off userAutomationExtension\n",
    "chrome_options.add_experimental_option(\"useAutomationExtension\", False) \n",
    "\n",
    "chrome_driver = \"C:/ChromeDrive/chromedriver\"\n",
    "\n",
    "\n",
    "### Set Up ODBC Connection #################################################################################################\n",
    "\n",
    "db = []\n",
    "with open('ODBC_Conn.txt') as file:\n",
    "    for line in file:\n",
    "        db.append(line.rstrip())\n",
    "\n",
    "conn = pyodbc.connect(f'DRIVER={db[2]};\\\n",
    "                        SERVER={db[0]};\\\n",
    "                        DATABASE={db[1]};\\\n",
    "                        UID={db[3]};PWD={db[4]}')\n",
    "\n",
    "\n",
    "### Run all Scrapers And Place Outputs Into SQL Tables If All Scrapers Ran Successfully ####################################\n",
    "    \n",
    "f1 = expedia_flight(chrome_driver, chrome_options, conn)\n",
    "\n",
    "ticket1 = f1.get_ticket_info(type_=args[0], class_=args[1], leave=args[2], going=args[3],\n",
    "                        depart=args[4], return_=args[5], nonstop=args[6],\n",
    "                        trav=[1,0,0,0])\n",
    "\n",
    "if len(ticket1[0]) > 1:\n",
    "        pass\n",
    "else:\n",
    "    sys.exit(\"Flight ticket info is empty\")\n",
    "\n",
    "f2 = kayak_flight(chrome_driver, chrome_options, conn)\n",
    "\n",
    "ticket2 = f2.get_ticket_info(type_=args[0], class_=args[1], leave=args[2], going=args[3],\n",
    "                        depart=args[4], return_=args[5], nonstop=args[6],\n",
    "                        trav=[1,0,0,0,0,0], bags=[1,0])\n",
    "\n",
    "if len(ticket2[0]) > 1:\n",
    "        pass\n",
    "else:\n",
    "    sys.exit(\"Flight ticket info is empty\")\n",
    "\n",
    "f1.info_to_sql(ticket1)\n",
    "f2.info_to_sql(ticket2)\n",
    "\n",
    "\n",
    "### Pull the sql tables, clean them, and place them into an Excel file #####################################################\n",
    "engine = create_engine(f\"mssql+pyodbc://{db[3]}:{db[4]}@{db[0]}/{db[1]}?driver={db[2]}\")\n",
    "conn = engine.connect()\n",
    "sql_excel(conn)"
   ]
  },
  {
   "cell_type": "code",
   "execution_count": null,
   "id": "2cc5e16a",
   "metadata": {},
   "outputs": [],
   "source": []
  }
 ],
 "metadata": {
  "kernelspec": {
   "display_name": "Python 3 (ipykernel)",
   "language": "python",
   "name": "python3"
  },
  "language_info": {
   "codemirror_mode": {
    "name": "ipython",
    "version": 3
   },
   "file_extension": ".py",
   "mimetype": "text/x-python",
   "name": "python",
   "nbconvert_exporter": "python",
   "pygments_lexer": "ipython3",
   "version": "3.8.15"
  }
 },
 "nbformat": 4,
 "nbformat_minor": 5
}
